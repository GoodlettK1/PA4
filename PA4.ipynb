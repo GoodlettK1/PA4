{
 "cells": [
  {
   "cell_type": "markdown",
   "id": "c6540d30",
   "metadata": {},
   "source": [
    "# Programming Assignment 4\n",
    "CS150-ON FA-23 Student:  Keith Goodlett"
   ]
  },
  {
   "cell_type": "markdown",
   "id": "453cbbf1",
   "metadata": {},
   "source": [
    "## Task 1: Grade Calculator"
   ]
  },
  {
   "cell_type": "code",
   "execution_count": 4,
   "id": "bee8746d",
   "metadata": {},
   "outputs": [
    {
     "name": "stdout",
     "output_type": "stream",
     "text": [
      "77.0\n"
     ]
    }
   ],
   "source": [
    "grades=[99,88,77,66,55]\n",
    "average_grade=sum(grades)/5\n",
    "print(average_grade)\n"
   ]
  },
  {
   "cell_type": "code",
   "execution_count": 6,
   "id": "ec28ab91",
   "metadata": {},
   "outputs": [
    {
     "name": "stdout",
     "output_type": "stream",
     "text": [
      "Enter the average grade: 77\n",
      "Grade equals a C\n"
     ]
    }
   ],
   "source": [
    "grade=int(input('Enter the average grade: '))\n",
    "\n",
    "if (grade>=90):\n",
    "    print('Grade equals an A')\n",
    "elif(grade>=80):\n",
    "    print('Grade equals a B')\n",
    "elif(grade>=70):\n",
    "    print('Grade equals a C')\n",
    "elif(grade>=60):\n",
    "    print('Grade equals a D')\n",
    "else:\n",
    "    print('Grade equals an F')"
   ]
  },
  {
   "cell_type": "markdown",
   "id": "2d9284bd",
   "metadata": {},
   "source": [
    "## Task 2: Tuple Unpacking"
   ]
  },
  {
   "cell_type": "code",
   "execution_count": 9,
   "id": "eb7419d6",
   "metadata": {},
   "outputs": [
    {
     "data": {
      "text/plain": [
       "tuple"
      ]
     },
     "execution_count": 9,
     "metadata": {},
     "output_type": "execute_result"
    }
   ],
   "source": [
    "student=('keith', 'goodlett', 55, 'CS150-ON')\n",
    "type(student)"
   ]
  },
  {
   "cell_type": "code",
   "execution_count": 28,
   "id": "fea8637c",
   "metadata": {},
   "outputs": [
    {
     "name": "stdout",
     "output_type": "stream",
     "text": [
      "Student is an adult\n"
     ]
    }
   ],
   "source": [
    "student=('keith', 'goodlett', 55, 'CS150-ON')\n",
    "name1,name2,age,subject=student\n",
    "age\n",
    "if age >= 18:\n",
    "    print('Student is an adult')\n",
    "else:\n",
    "    print('Student is a minor')"
   ]
  },
  {
   "cell_type": "markdown",
   "id": "368df48c",
   "metadata": {},
   "source": [
    "## Task 3: Month and date"
   ]
  },
  {
   "cell_type": "code",
   "execution_count": 34,
   "id": "4eb09ea6",
   "metadata": {},
   "outputs": [
    {
     "name": "stdout",
     "output_type": "stream",
     "text": [
      "Enter the month number: 8\n",
      "August has 31 days\n"
     ]
    }
   ],
   "source": [
    "month=int(input('Enter the month number: '))\n",
    "\n",
    "if (month==1):\n",
    "    print('January has 31 days')\n",
    "elif (month==2):\n",
    "    print('February has 28 days')\n",
    "elif (month==3):\n",
    "    print('March has 31 days')\n",
    "elif (month==4):\n",
    "    print('April has 30 days')\n",
    "elif (month==5):\n",
    "    print('May has 31 days')\n",
    "elif (month==6):\n",
    "    print('June has 30 days')\n",
    "elif (month==7):\n",
    "    print('July has 31 days')\n",
    "elif (month==8):\n",
    "    print('August has 31 days')\n",
    "elif (month==9):\n",
    "    print('September has 30 days')\n",
    "elif (month==10):\n",
    "    print('October has 31 days')\n",
    "elif (month==11):\n",
    "    print('November has 30 days')\n",
    "elif (month==12):\n",
    "    print('December has 31 days')\n",
    "else:\n",
    "    print('Invalid month entry')"
   ]
  },
  {
   "cell_type": "markdown",
   "id": "d8d3837c",
   "metadata": {},
   "source": [
    "## Task 4: Triangle"
   ]
  },
  {
   "cell_type": "code",
   "execution_count": 37,
   "id": "d9c64714",
   "metadata": {},
   "outputs": [
    {
     "name": "stdout",
     "output_type": "stream",
     "text": [
      "Enter the base: 3\n",
      "Enter the value of the left side of the triangle: 4\n",
      "Enter the value of the right side of the triangle: 5\n",
      "Scalene triangle\n"
     ]
    }
   ],
   "source": [
    "base=int(input('Enter the base: '))\n",
    "left_side=int(input('Enter the value of the left side of the triangle: '))\n",
    "right_side=int(input('Enter the value of the right side of the triangle: '))\n",
    "\n",
    "if (base==left_side and base==right_side):\n",
    "    print('Equilateral triangle')\n",
    "elif (base==left_side or base==right_side or left_side==right_side):\n",
    "    print('Isosceles triangle')\n",
    "elif (base!=left_side and base!=right_side and left_side!=right_side):\n",
    "    print('Scalene triangle')\n",
    "else:\n",
    "    print('Not an isosceles, equilateral,or scalene triangle')"
   ]
  },
  {
   "cell_type": "markdown",
   "id": "ab96f0fc",
   "metadata": {},
   "source": [
    "## Task 5: List Comprehension and Filtering"
   ]
  },
  {
   "cell_type": "code",
   "execution_count": 55,
   "id": "b5bddb2f",
   "metadata": {},
   "outputs": [
    {
     "data": {
      "text/plain": [
       "[21,\n",
       " 22,\n",
       " 23,\n",
       " 24,\n",
       " 25,\n",
       " 26,\n",
       " 27,\n",
       " 28,\n",
       " 29,\n",
       " 30,\n",
       " 31,\n",
       " 32,\n",
       " 33,\n",
       " 34,\n",
       " 35,\n",
       " 36,\n",
       " 37,\n",
       " 38,\n",
       " 39,\n",
       " 40]"
      ]
     },
     "execution_count": 55,
     "metadata": {},
     "output_type": "execute_result"
    }
   ],
   "source": [
    "numbers=[number for number in range (21,41)]\n",
    "numbers"
   ]
  },
  {
   "cell_type": "code",
   "execution_count": 52,
   "id": "250b235a",
   "metadata": {},
   "outputs": [
    {
     "name": "stdout",
     "output_type": "stream",
     "text": [
      "[484, 576, 676, 784, 900, 1024, 1156, 1296, 1444, 1600]\n"
     ]
    }
   ],
   "source": [
    "even_squares=[number**2 for number in range (21,41,2)]\n",
    "print(even_squares)"
   ]
  },
  {
   "cell_type": "code",
   "execution_count": 54,
   "id": "2a07fcdd",
   "metadata": {},
   "outputs": [
    {
     "data": {
      "text/plain": [
       "[9261, 12167, 15625, 19683, 24389, 29791, 35937, 42875, 50653, 59319]"
      ]
     },
     "execution_count": 54,
     "metadata": {},
     "output_type": "execute_result"
    }
   ],
   "source": [
    "odd_cubes=[number**3 for number in range (21,40,2)]\n",
    "odd_cubes"
   ]
  },
  {
   "cell_type": "code",
   "execution_count": null,
   "id": "3c46dadf",
   "metadata": {},
   "outputs": [],
   "source": []
  }
 ],
 "metadata": {
  "kernelspec": {
   "display_name": "Python 3 (ipykernel)",
   "language": "python",
   "name": "python3"
  },
  "language_info": {
   "codemirror_mode": {
    "name": "ipython",
    "version": 3
   },
   "file_extension": ".py",
   "mimetype": "text/x-python",
   "name": "python",
   "nbconvert_exporter": "python",
   "pygments_lexer": "ipython3",
   "version": "3.11.5"
  }
 },
 "nbformat": 4,
 "nbformat_minor": 5
}
